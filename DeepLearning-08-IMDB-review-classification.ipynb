{
 "cells": [
  {
   "cell_type": "markdown",
   "metadata": {},
   "source": [
    "# Classifying IMDB movie reviews using RNNs and 1D CNN<a id=\"Top\"></a>\n",
    "\n",
    "<div class=\"alert alert-block alert-info\" style=\"margin-top: 20px\">\n",
    "\n",
    "<font size = 3>\n",
    "Table of Content\n",
    "<ul>\n",
    "    <li>1. <a href=\"#Part_1\">Data preprocessing</a></li>\n",
    "    <li>2  <a href=\"#Part_2\">Tokenizing the raw IMDB data</a></li>\n",
    "    <li>3. <a href=\"#Part_3\">Learning word embeddings with the Embedding layer</a></li>\n",
    "    <li>4. <a href=\"#Part_4\">Using precomputed word embeddings</a></li>\n",
    "    <li>5. <a href=\"#Part_5\">Text data processing with 1D CNN</a></li>    \n",
    "</ul>    \n",
    "</font>\n",
    "</div>"
   ]
  },
  {
   "cell_type": "markdown",
   "metadata": {},
   "source": [
    "In this notebook, we'll work on classifying the IMDB dataset, a set of 50,000 reviews from the Internet Movie\n",
    "Database. The data is split into 25,000 reviews for training and 25,000 reviews for testing. Each set consists\n",
    "of 50% positive and 50% negative reviews. The IMDB dataset comes packaged with Keras. But here we will work from \n",
    "the IMDB raw text data all the way to word embeddings."
   ]
  },
  {
   "cell_type": "code",
   "execution_count": 1,
   "metadata": {},
   "outputs": [
    {
     "name": "stderr",
     "output_type": "stream",
     "text": [
      "Using TensorFlow backend.\n"
     ]
    }
   ],
   "source": [
    "%matplotlib inline\n",
    "import matplotlib\n",
    "import matplotlib.pylab as plt\n",
    "import numpy as np\n",
    "import pandas as pd\n",
    "import csv, os\n",
    "import pickle\n",
    "\n",
    "from keras.models import Sequential\n",
    "from keras.layers import Embedding\n",
    "from keras.layers import LSTM\n",
    "from keras.layers import Flatten, Dense, Dropout\n",
    "from keras.layers import Conv1D, MaxPooling1D, GlobalMaxPooling1D\n",
    "from keras.optimizers import RMSprop\n",
    "from keras.preprocessing.text import Tokenizer\n",
    "from keras.preprocessing.sequence import pad_sequences\n",
    "from sklearn.model_selection import train_test_split"
   ]
  },
  {
   "cell_type": "markdown",
   "metadata": {},
   "source": [
    "Define auxiliary functions"
   ]
  },
  {
   "cell_type": "code",
   "execution_count": 2,
   "metadata": {},
   "outputs": [],
   "source": [
    "def set_figuresize():\n",
    "    # Define overall figure size. Use the Golden ratio to compute width and height.\n",
    "    height = 6.0\n",
    "    width = height*0.5*(1.0+np.sqrt(5.0))\n",
    "\n",
    "    plt.rcParams['figure.figsize'] = (width, height)\n",
    "    plt.rcParams['mathtext.fontset'] = 'cm'\n",
    "    plt.rcParams['mathtext.rm'] = 'serif'\n",
    "    \n",
    "    \n",
    "# -------------------------------------------------------------------------------\n",
    "def plot_history(history, ymin=0.9, ymax=1.0):\n",
    "    '''\n",
    "    Simple function that plots metrics in the Keras history class.\n",
    "    '''\n",
    "    acc = history.history['acc']\n",
    "    loss = history.history['loss']\n",
    "    val_acc = history.history['val_acc']\n",
    "    val_loss = history.history['val_loss']\n",
    "    \n",
    "    epochs = range(1, len(acc)+1)\n",
    "    \n",
    "    plt.figure(figsize=(8,10))\n",
    "    plt.subplots_adjust(hspace=0.2)\n",
    "    \n",
    "    plt.subplot(211)\n",
    "    plt.plot(epochs, acc,     'bo-', markersize=3, label='Training acc')\n",
    "    plt.plot(epochs, val_acc, 'ro-', markersize=3, label='Validation acc')\n",
    "    plt.ylim(ymin, ymax)\n",
    "    plt.xlim(0, len(acc)+1)\n",
    "    plt.xlabel('epoch', fontsize=14)\n",
    "    plt.ylabel('Accuracy', fontsize=14)\n",
    "    plt.legend()\n",
    "    \n",
    "    plt.subplot(212)\n",
    "    plt.plot(epochs, loss,     'bo-', markersize=3, label='Training loss')\n",
    "    plt.plot(epochs, val_loss, 'ro-', markersize=3, label='Validation loss')\n",
    "    plt.xlim(0, len(acc)+1)\n",
    "    plt.xlabel('epoch', fontsize=14)\n",
    "    plt.ylabel('Loss', fontsize=14)\n",
    "    plt.legend()\n",
    "    \n",
    "    plt.show()    \n",
    "    \n",
    "\n",
    "# -------------------------------------------------------------------------------\n",
    "def load_RawIMDB(imdb_dir, dataset='train'):\n",
    "    '''\n",
    "    Load raw IMDB reviews from files and turn them into a pandas dataframe.\n",
    "    \n",
    "    Arguments :\n",
    "       imdb_dir - Path to the raw IMDB review dataset \n",
    "        dataset - Could be 'train' or 'test'.    \n",
    "    '''\n",
    "    index = 0\n",
    "    data_dir = os.path.join(imdb_dir, dataset)\n",
    "    \n",
    "    df_imdb = pd.DataFrame(columns=['label', 'review'])\n",
    "    for label_type in ['pos/', 'neg/']:\n",
    "        dir_name = os.path.join(data_dir, label_type)\n",
    "        for fname in os.listdir(dir_name):\n",
    "            index += 1\n",
    "            if index%1000 == 0:\n",
    "                print(' Processing batch #{0}'.format(index))\n",
    "            frame = pd.read_table(dir_name+fname, header=None, quoting=csv.QUOTE_NONE)\n",
    "            if label_type == 'pos/':\n",
    "                label = 1\n",
    "            else:\n",
    "                label = 0\n",
    "            df_imdb = df_imdb.append({'label':label, 'review':frame.iloc[0][0]}, ignore_index=True)\n",
    "            \n",
    "    return df_imdb      "
   ]
  },
  {
   "cell_type": "markdown",
   "metadata": {},
   "source": [
    "# 1. Data preprocessing<a id=\"Part_1\"></a>\n",
    "<a href=\"#Top\">Back to page top</a>\n",
    "\n",
    "Load up the IMDB raw review data. The folder `aclImdb` consists of two subfolers `train` and `test` containing\n",
    "training and test datasets respectively. In each of the folders, the reviews are further categorized into positive\n",
    "and negative reviews. The reviews will be labeled accordingly.\n",
    "\n",
    "Here we use pandas to import and combine individual reviews into a big dataframe. The trick here is to create\n",
    "an empty dataframe with two columns `['label', 'review']`. Each of the reviews is imported to a placeholder\n",
    "dataframe using `pd.read_table()`. Finally, we pack the review stored in the temporary dataframe along with\n",
    "its label (i.e. name of the folder where the review resides) into a dictionary, and append the dictionary to \n",
    "the target dataframe."
   ]
  },
  {
   "cell_type": "code",
   "execution_count": 3,
   "metadata": {},
   "outputs": [],
   "source": [
    "imdb_file = './datasets/imdb_train.csv'\n",
    "imdb_dir = './datasets/aclImdb/'"
   ]
  },
  {
   "cell_type": "code",
   "execution_count": 4,
   "metadata": {},
   "outputs": [],
   "source": [
    "if os.path.isfile(imdb_file):\n",
    "    df_imdb = pd.read_csv(imdb_file)\n",
    "else:\n",
    "    df_imdb = load_RawIMDB(imdb_dir, dataset='train')\n",
    "    df_imdb.to_csv('./datasets/imdb_train.csv', index=False)        "
   ]
  },
  {
   "cell_type": "markdown",
   "metadata": {},
   "source": [
    "Showing the first and last few rows of the dataframe:"
   ]
  },
  {
   "cell_type": "code",
   "execution_count": 5,
   "metadata": {},
   "outputs": [
    {
     "data": {
      "text/html": [
       "<div>\n",
       "<style scoped>\n",
       "    .dataframe tbody tr th:only-of-type {\n",
       "        vertical-align: middle;\n",
       "    }\n",
       "\n",
       "    .dataframe tbody tr th {\n",
       "        vertical-align: top;\n",
       "    }\n",
       "\n",
       "    .dataframe thead th {\n",
       "        text-align: right;\n",
       "    }\n",
       "</style>\n",
       "<table border=\"1\" class=\"dataframe\">\n",
       "  <thead>\n",
       "    <tr style=\"text-align: right;\">\n",
       "      <th></th>\n",
       "      <th>label</th>\n",
       "      <th>review</th>\n",
       "    </tr>\n",
       "  </thead>\n",
       "  <tbody>\n",
       "    <tr>\n",
       "      <th>0</th>\n",
       "      <td>1</td>\n",
       "      <td>Audiences today will probably watch a film lik...</td>\n",
       "    </tr>\n",
       "    <tr>\n",
       "      <th>1</th>\n",
       "      <td>1</td>\n",
       "      <td>I saw this movie about a year ago, and found i...</td>\n",
       "    </tr>\n",
       "    <tr>\n",
       "      <th>2</th>\n",
       "      <td>1</td>\n",
       "      <td>This movie is about human relationships. Charm...</td>\n",
       "    </tr>\n",
       "    <tr>\n",
       "      <th>3</th>\n",
       "      <td>1</td>\n",
       "      <td>These are excerpts from a nine-page \"Memo to M...</td>\n",
       "    </tr>\n",
       "    <tr>\n",
       "      <th>4</th>\n",
       "      <td>1</td>\n",
       "      <td>Wonderful romance comedy drama about an Italia...</td>\n",
       "    </tr>\n",
       "  </tbody>\n",
       "</table>\n",
       "</div>"
      ],
      "text/plain": [
       "   label                                             review\n",
       "0      1  Audiences today will probably watch a film lik...\n",
       "1      1  I saw this movie about a year ago, and found i...\n",
       "2      1  This movie is about human relationships. Charm...\n",
       "3      1  These are excerpts from a nine-page \"Memo to M...\n",
       "4      1  Wonderful romance comedy drama about an Italia..."
      ]
     },
     "execution_count": 5,
     "metadata": {},
     "output_type": "execute_result"
    }
   ],
   "source": [
    "df_imdb.head()"
   ]
  },
  {
   "cell_type": "code",
   "execution_count": 6,
   "metadata": {},
   "outputs": [
    {
     "data": {
      "text/html": [
       "<div>\n",
       "<style scoped>\n",
       "    .dataframe tbody tr th:only-of-type {\n",
       "        vertical-align: middle;\n",
       "    }\n",
       "\n",
       "    .dataframe tbody tr th {\n",
       "        vertical-align: top;\n",
       "    }\n",
       "\n",
       "    .dataframe thead th {\n",
       "        text-align: right;\n",
       "    }\n",
       "</style>\n",
       "<table border=\"1\" class=\"dataframe\">\n",
       "  <thead>\n",
       "    <tr style=\"text-align: right;\">\n",
       "      <th></th>\n",
       "      <th>label</th>\n",
       "      <th>review</th>\n",
       "    </tr>\n",
       "  </thead>\n",
       "  <tbody>\n",
       "    <tr>\n",
       "      <th>24995</th>\n",
       "      <td>0</td>\n",
       "      <td>OK so there's nudity, but hey, there's free po...</td>\n",
       "    </tr>\n",
       "    <tr>\n",
       "      <th>24996</th>\n",
       "      <td>0</td>\n",
       "      <td>I'm a fan of the series and have read all 7 bo...</td>\n",
       "    </tr>\n",
       "    <tr>\n",
       "      <th>24997</th>\n",
       "      <td>0</td>\n",
       "      <td>This has to be one of the worst movies I've ev...</td>\n",
       "    </tr>\n",
       "    <tr>\n",
       "      <th>24998</th>\n",
       "      <td>0</td>\n",
       "      <td>No, I've never seen any of the \"Santa Slasher\"...</td>\n",
       "    </tr>\n",
       "    <tr>\n",
       "      <th>24999</th>\n",
       "      <td>0</td>\n",
       "      <td>This is listed as a documentary, it's not, it'...</td>\n",
       "    </tr>\n",
       "  </tbody>\n",
       "</table>\n",
       "</div>"
      ],
      "text/plain": [
       "       label                                             review\n",
       "24995      0  OK so there's nudity, but hey, there's free po...\n",
       "24996      0  I'm a fan of the series and have read all 7 bo...\n",
       "24997      0  This has to be one of the worst movies I've ev...\n",
       "24998      0  No, I've never seen any of the \"Santa Slasher\"...\n",
       "24999      0  This is listed as a documentary, it's not, it'..."
      ]
     },
     "execution_count": 6,
     "metadata": {},
     "output_type": "execute_result"
    }
   ],
   "source": [
    "df_imdb.tail()"
   ]
  },
  {
   "cell_type": "markdown",
   "metadata": {},
   "source": [
    "# 2. Tokenizing the raw IMDB data<a id=\"Part_2\"></a>\n",
    "<a href=\"#Top\">Back to page top</a>\n",
    "\n",
    "Here we will utilize two classes packaged in Keras: `Tokenizer` and `pad_sequence`.\n",
    "1. __`Tokenizer`__: The most critical argument is `num_words`. This argument determines the maximum number of \n",
    "   words to keep, based on word frequency. Only the most common `num_words` words will be kept. Tokenizer\n",
    "   by default will filter out all punctuation (except the `'` character), tabs, and line breaks. One can \n",
    "   supply a custom filter through the argument `filter=filter_string`, where `filter_string` contains the\n",
    "   symbols to be ignored by Tokenizer. The delimiter can be specified through `split = delimiter_string`. \n",
    "   By default ``split = ` ```.\n",
    "   ```python\n",
    "        Tokenizer(num_words=None, split=` `)```\n",
    "2. __`pad_sequences`__: IMDB reviews have various number of words. To deal with inputs with variable lenghths,\n",
    "   one can set the maximum number of word in the input. For reviews that have fewers words, it is necessary to\n",
    "   pad them with zeroes. This is what the function does."
   ]
  },
  {
   "cell_type": "code",
   "execution_count": 7,
   "metadata": {},
   "outputs": [
    {
     "name": "stdout",
     "output_type": "stream",
     "text": [
      " Found 88521 unique tokens\n"
     ]
    }
   ],
   "source": [
    "num_unique_tokens    = 20000    # consider top 10,000 most common words in the whole IMDB dataset\n",
    "\n",
    "tokenizer = Tokenizer(num_words = num_unique_tokens)\n",
    "tokenizer.fit_on_texts( np.asarray( df_imdb['review'] ) )\n",
    "sequences = tokenizer.texts_to_sequences( np.asarray( df_imdb['review'] ) )\n",
    "word_index = tokenizer.word_index\n",
    "print(' Found {0} unique tokens'.format(len(word_index)))"
   ]
  },
  {
   "cell_type": "markdown",
   "metadata": {},
   "source": [
    "Let's compare the data's raw and tokenized versions. First the review, followed by its tokenization."
   ]
  },
  {
   "cell_type": "code",
   "execution_count": 8,
   "metadata": {},
   "outputs": [
    {
     "name": "stdout",
     "output_type": "stream",
     "text": [
      "['The', 'movie', 'is', 'a', 'bit', '\"thin\"', 'after', 'reading', 'the', 'book,', 'but', \"it's\", 'still', 'one', 'of', 'the', 'greatest', 'movies', 'ever', 'made.', 'Sheryl', 'Lee', 'is', 'beautiful', 'and', 'Nick', 'Nolte', 'is', 'really', '\"vonneguty\".', 'He', 'makes', 'great', 'job', 'expressing', 'the', 'feelings', 'from', 'the', 'book', 'to', 'the', 'film.', 'Not', 'many', 'films', 'engage', 'the', 'feeling', 'of', 'the', 'book', 'as', 'well', 'as', 'Mother', 'Night', 'does.']\n",
      "\n",
      " Review length in words: 58\n"
     ]
    }
   ],
   "source": [
    "idx = 40\n",
    "print(df_imdb['review'][idx].split())\n",
    "print('\\n Review length in words: {}'.format(len(df_imdb['review'][idx].split())))"
   ]
  },
  {
   "cell_type": "code",
   "execution_count": 9,
   "metadata": {
    "scrolled": false
   },
   "outputs": [
    {
     "name": "stdout",
     "output_type": "stream",
     "text": [
      "[1, 17, 6, 3, 224, 1532, 100, 883, 1, 271, 18, 42, 128, 28, 4, 1, 830, 99, 123, 90, 15500, 845, 6, 304, 2, 1848, 6191, 6, 63, 27, 163, 84, 289, 9095, 1, 1421, 36, 1, 271, 5, 1, 19, 21, 108, 105, 4518, 1, 544, 4, 1, 271, 14, 70, 14, 449, 311, 124]\n",
      "\n",
      " Sequence length: 57\n"
     ]
    }
   ],
   "source": [
    "print(sequences[idx])\n",
    "print('\\n Sequence length: {}'.format(len(sequences[idx])))"
   ]
  },
  {
   "cell_type": "markdown",
   "metadata": {},
   "source": [
    "Next we take a look at the length (in words) distribution for positive and negative reviews."
   ]
  },
  {
   "cell_type": "code",
   "execution_count": 10,
   "metadata": {},
   "outputs": [
    {
     "name": "stdout",
     "output_type": "stream",
     "text": [
      " maximum number of words in positive reviews: 2340\n",
      " maximum number of words in negative reviews: 1493\n"
     ]
    }
   ],
   "source": [
    "pcount = []\n",
    "ncount = []\n",
    "for i in range(25000):\n",
    "    if i < 12500:\n",
    "        pcount.append(len(sequences[i]))\n",
    "    else:\n",
    "        ncount.append(len(sequences[i]))\n",
    "print(' maximum number of words in positive reviews:', np.max(pcount))\n",
    "print(' maximum number of words in negative reviews:', np.max(ncount))"
   ]
  },
  {
   "cell_type": "code",
   "execution_count": 11,
   "metadata": {},
   "outputs": [
    {
     "data": {
      "image/png": "[encoded data removed]",
      "text/plain": [
       "<Figure size 698.991x432 with 2 Axes>"
      ]
     },
     "metadata": {
      "needs_background": "light"
     },
     "output_type": "display_data"
    }
   ],
   "source": [
    "bins = range(0, 2000, 25)\n",
    "\n",
    "hp, bp = np.histogram(pcount, bins=bins)\n",
    "hn, bn = np.histogram(ncount, bins=bins)  \n",
    "\n",
    "set_figuresize()\n",
    "fig, ax1 = plt.subplots()\n",
    "ax1.bar(bp[:-1], hp, width=20, fc='r', alpha=0.3, label='Positive Reviews')\n",
    "ax1.bar(bn[:-1], hn, width=20, fc='b', alpha=0.3, label='Negative Reviews')\n",
    "ax1.set_xlabel('Token counts', fontsize=15)\n",
    "ax1.set_ylabel('Occurance', fontsize=15)\n",
    "ax1.legend(fontsize=15, loc='lower right')\n",
    "\n",
    "ax2 = ax1.twinx()\n",
    "ax2.plot(bp[:-1], np.cumsum(hp), 'ro-', ms=3.4, alpha=0.5)\n",
    "ax2.plot(bn[:-1], np.cumsum(hn), 'bs-', ms=3.0, alpha=0.5)\n",
    "ax2.set_ylabel('Cumulative Occurance', fontsize=15)\n",
    "\n",
    "plt.xlim([0, 2000])\n",
    "\n",
    "plt.xticks(fontsize=13)\n",
    "plt.yticks(fontsize=13)\n",
    "\n",
    "plt.show()"
   ]
  },
  {
   "cell_type": "markdown",
   "metadata": {},
   "source": [
    "The distribution for positive review and that of negative review are very similar. Also, the majority of \n",
    "the reviews are of length less than 400 words. Since our network can only take inputs with fixed length,\n",
    "we will have to truncate the reviews. The similar distributions indicate that the truncation will do a\n",
    "similar level of impact, at least in the number of words, to both type of reviews.\n",
    "\n",
    "Cutting the reviews is done through Keras\n",
    "`pad_sequence` function with the following defaults\n",
    "```python\n",
    "    pad_sequences(sequences, maxlen=None, padding='pre', truncating='pre', value=0.0)```\n",
    "`pad_Sequence` will take a 2D tensor of shape `(num_of_samples, None)`  and convert it into a 2D tensor with shape\n",
    "`(num_of_samples, maxlen)`. Sequences shorter than `maxlen` are padded with `value`. Sequences longer \n",
    "than `maxlen` are truncated. The location of padding and truncation is determined by `padding` and `truncating`:\n",
    "- `padding` = `'pre'` or `'post'`: pad either before or after each sequence.\n",
    "- `truncating` = `'pre'` or `'post'`: remove values from sequences larger than `maxlen`, either at the beginning \n",
    "  or at the end of the sequences."
   ]
  },
  {
   "cell_type": "code",
   "execution_count": 12,
   "metadata": {},
   "outputs": [
    {
     "name": "stdout",
     "output_type": "stream",
     "text": [
      " Shape of data tensor: (25000, 200)\n",
      " Shape of label tensor: (25000,)\n"
     ]
    }
   ],
   "source": [
    "max_words_per_review = 200     # consider the firtst 200 words in each review\n",
    "\n",
    "data = pad_sequences(sequences, maxlen = max_words_per_review)\n",
    "labels = np.asanyarray(df_imdb['label'])\n",
    "print(' Shape of data tensor:', data.shape)\n",
    "print(' Shape of label tensor:', labels.shape)"
   ]
  },
  {
   "cell_type": "markdown",
   "metadata": {},
   "source": [
    "Now that the review data has been tokenized and labels have been prepared, the next step is to generate training\n",
    "and validation sets. We'll use Scikit-Learn's `train_test_split()` function."
   ]
  },
  {
   "cell_type": "code",
   "execution_count": 13,
   "metadata": {},
   "outputs": [
    {
     "name": "stdout",
     "output_type": "stream",
     "text": [
      "   training tensor shape: (9000, 200)\n",
      " validation tensor shape: (3500, 200)\n"
     ]
    }
   ],
   "source": [
    "train_size           = 9000     # size of the training sample\n",
    "validation_size      = 3500     # size of the validation sample\n",
    "\n",
    "x_train, x_val, y_train, y_val = train_test_split(data, \n",
    "                                                  labels, \n",
    "                                                  test_size = validation_size, \n",
    "                                                  train_size = train_size,\n",
    "                                                  random_state = 71)\n",
    "print('   training tensor shape:',x_train.shape)\n",
    "print(' validation tensor shape:',x_val.shape)"
   ]
  },
  {
   "cell_type": "markdown",
   "metadata": {},
   "source": [
    "Follow the same data preprocessing procedure and prepare the test dataset."
   ]
  },
  {
   "cell_type": "code",
   "execution_count": 1,
   "metadata": {},
   "outputs": [
    {
     "ename": "NameError",
     "evalue": "name 'os' is not defined",
     "output_type": "error",
     "traceback": [
      "\u001b[0;31m---------------------------------------------------------------------------\u001b[0m",
      "\u001b[0;31mNameError\u001b[0m                                 Traceback (most recent call last)",
      "\u001b[0;32m<ipython-input-1-ba84f592bfd6>\u001b[0m in \u001b[0;36m<module>\u001b[0;34m\u001b[0m\n\u001b[1;32m      4\u001b[0m \u001b[0mimdb_file\u001b[0m \u001b[0;34m=\u001b[0m \u001b[0;34m'./datasets/imdb_test.csv'\u001b[0m\u001b[0;34m\u001b[0m\u001b[0m\n\u001b[1;32m      5\u001b[0m \u001b[0;34m\u001b[0m\u001b[0m\n\u001b[0;32m----> 6\u001b[0;31m \u001b[0;32mif\u001b[0m \u001b[0mos\u001b[0m\u001b[0;34m.\u001b[0m\u001b[0mpath\u001b[0m\u001b[0;34m.\u001b[0m\u001b[0misfile\u001b[0m\u001b[0;34m(\u001b[0m\u001b[0mimdb_file\u001b[0m\u001b[0;34m)\u001b[0m\u001b[0;34m:\u001b[0m\u001b[0;34m\u001b[0m\u001b[0m\n\u001b[0m\u001b[1;32m      7\u001b[0m     \u001b[0mdf_imdb\u001b[0m \u001b[0;34m=\u001b[0m \u001b[0mpd\u001b[0m\u001b[0;34m.\u001b[0m\u001b[0mread_csv\u001b[0m\u001b[0;34m(\u001b[0m\u001b[0mimdb_file\u001b[0m\u001b[0;34m)\u001b[0m\u001b[0;34m\u001b[0m\u001b[0m\n\u001b[1;32m      8\u001b[0m \u001b[0;32melse\u001b[0m\u001b[0;34m:\u001b[0m\u001b[0;34m\u001b[0m\u001b[0m\n",
      "\u001b[0;31mNameError\u001b[0m: name 'os' is not defined"
     ]
    }
   ],
   "source": [
    "# ------------------------------------------\n",
    "# Load the test set file\n",
    "# ------------------------------------------\n",
    "imdb_file = './datasets/imdb_test.csv'\n",
    "\n",
    "if os.path.isfile(imdb_file):\n",
    "    df_imdb = pd.read_csv(imdb_file)\n",
    "else:\n",
    "    df_imdb = load_RawIMDB(imdb_dir, dataset='test')\n",
    "    df_imdb.to_csv('./datasets/imdb_test.csv', index=False)        \n",
    "\n",
    "# ------------------------------------------\n",
    "# Tokenization    \n",
    "# ------------------------------------------\n",
    "num_unique_tokens    = 20000    # consider top 10,000 most common words in the whole IMDB dataset\n",
    "\n",
    "tokenizer = Tokenizer(num_words = num_unique_tokens)\n",
    "tokenizer.fit_on_texts( np.asarray( df_imdb['review'] ) )\n",
    "sequences = tokenizer.texts_to_sequences( np.asarray( df_imdb['review'] ) )\n",
    "word_index = tokenizer.word_index\n",
    "print(' Found {0} unique tokens'.format(len(word_index)))    \n",
    "\n",
    "# ------------------------------------------\n",
    "# Padding and cutting the reviews\n",
    "# ------------------------------------------\n",
    "max_words_per_review = 200     # consider the firtst 200 words in each review\n",
    "\n",
    "data = pad_sequences(sequences, maxlen = max_words_per_review)\n",
    "labels = np.asanyarray(df_imdb['label'])\n",
    "print(' Shape of data tensor:', data.shape)\n",
    "print(' Shape of label tensor:', labels.shape)"
   ]
  },
  {
   "cell_type": "markdown",
   "metadata": {},
   "source": [
    "# 3. Learning word embeddings with the `Embedding` layer<a id=\"Part_3\"></a>\n",
    "<a href=\"#Top\">Back to page top</a>\n",
    "\n",
    "The first RNN demonstration is learning word embeddings with the Keras `Embedding` layer. The `Embedding` layer\n",
    "is co-trained with an LSTM layer whose output dimension is set to be 100. This is a hyperparameter that can \n",
    "be tuned. Because this is a binary classification problem, the `Dense` layer's activation is a sigmoid function.\n",
    "The loss function is using `binary_crossentropy`. The network's initial weights are also stored for the next\n",
    "section."
   ]
  },
  {
   "cell_type": "code",
   "execution_count": 14,
   "metadata": {
    "scrolled": true
   },
   "outputs": [
    {
     "name": "stdout",
     "output_type": "stream",
     "text": [
      "_________________________________________________________________\n",
      "Layer (type)                 Output Shape              Param #   \n",
      "=================================================================\n",
      "embedding_1 (Embedding)      (None, 200, 50)           1000000   \n",
      "_________________________________________________________________\n",
      "lstm_1 (LSTM)                (None, 100)               60400     \n",
      "_________________________________________________________________\n",
      "dense_1 (Dense)              (None, 1)                 101       \n",
      "=================================================================\n",
      "Total params: 1,060,501\n",
      "Trainable params: 1,060,501\n",
      "Non-trainable params: 0\n",
      "_________________________________________________________________\n"
     ]
    }
   ],
   "source": [
    "embedding_dim = 50\n",
    "\n",
    "model = Sequential()\n",
    "model.add( Embedding(num_unique_tokens, \n",
    "                     embedding_dim, \n",
    "                     input_length = max_words_per_review) )\n",
    "model.add( LSTM(100) )\n",
    "model.add( Dense(1, activation = 'sigmoid') )\n",
    "model.compile(optimizer = 'rmsprop', loss = 'binary_crossentropy', metrics=['acc'])\n",
    "model.summary()\n",
    "\n",
    "model.save_weights('imdb_RNN_initial_weights.h5')"
   ]
  },
  {
   "cell_type": "code",
   "execution_count": 15,
   "metadata": {
    "scrolled": false
   },
   "outputs": [
    {
     "name": "stdout",
     "output_type": "stream",
     "text": [
      "Train on 9000 samples, validate on 3500 samples\n",
      "Epoch 1/10\n",
      "9000/9000 [==============================] - 28s 3ms/step - loss: 0.5734 - acc: 0.7164 - val_loss: 0.4753 - val_acc: 0.7683\n",
      "Epoch 2/10\n",
      "9000/9000 [==============================] - 26s 3ms/step - loss: 0.3310 - acc: 0.8646 - val_loss: 0.3580 - val_acc: 0.8429\n",
      "Epoch 3/10\n",
      "9000/9000 [==============================] - 26s 3ms/step - loss: 0.2392 - acc: 0.9093 - val_loss: 0.4607 - val_acc: 0.8197\n",
      "Epoch 4/10\n",
      "9000/9000 [==============================] - 26s 3ms/step - loss: 0.1755 - acc: 0.9383 - val_loss: 0.3847 - val_acc: 0.8609\n",
      "Epoch 5/10\n",
      "9000/9000 [==============================] - 26s 3ms/step - loss: 0.1373 - acc: 0.9528 - val_loss: 0.4281 - val_acc: 0.8403\n",
      "Epoch 6/10\n",
      "9000/9000 [==============================] - 26s 3ms/step - loss: 0.1005 - acc: 0.9654 - val_loss: 0.5698 - val_acc: 0.8429\n",
      "Epoch 7/10\n",
      "9000/9000 [==============================] - 26s 3ms/step - loss: 0.0805 - acc: 0.9756 - val_loss: 0.4682 - val_acc: 0.8500\n",
      "Epoch 8/10\n",
      "9000/9000 [==============================] - 26s 3ms/step - loss: 0.0678 - acc: 0.9787 - val_loss: 0.4810 - val_acc: 0.8329\n",
      "Epoch 9/10\n",
      "9000/9000 [==============================] - 26s 3ms/step - loss: 0.0520 - acc: 0.9848 - val_loss: 0.6477 - val_acc: 0.8346\n",
      "Epoch 10/10\n",
      "9000/9000 [==============================] - 26s 3ms/step - loss: 0.0463 - acc: 0.9873 - val_loss: 0.5933 - val_acc: 0.8523\n"
     ]
    }
   ],
   "source": [
    "history = model.fit(x_train, y_train,\n",
    "                    epochs = 10,\n",
    "                    batch_size = 64,\n",
    "                    validation_data = (x_val, y_val))\n",
    "\n",
    "model.save('imdb_RNN_train_embeddings.h5')\n",
    "with open('imdb_RNN_train_embeddings_history.pickle', 'wb') as history_file:\n",
    "    pickle.dump(history, history_file)"
   ]
  },
  {
   "cell_type": "markdown",
   "metadata": {},
   "source": [
    "We are ready to examine the trainig history."
   ]
  },
  {
   "cell_type": "code",
   "execution_count": 16,
   "metadata": {
    "scrolled": false
   },
   "outputs": [
    {
     "data": {
      "image/png": "[encoded data removed]",
      "text/plain": [
       "<Figure size 576x720 with 2 Axes>"
      ]
     },
     "metadata": {
      "needs_background": "light"
     },
     "output_type": "display_data"
    }
   ],
   "source": [
    "h = pickle.load( open('imdb_RNN_train_embeddings_history.pickle', 'rb'))\n",
    "plot_history(h, ymin=0.6)"
   ]
  },
  {
   "cell_type": "markdown",
   "metadata": {},
   "source": [
    "The validation accuracy tops at around 85%. But the network quickly overfits, starting from the 3rd epoch."
   ]
  },
  {
   "cell_type": "markdown",
   "metadata": {},
   "source": [
    "# 4. Using precomputed word embeddings<a id=\"Part_4\"></a>\n",
    "<a href=\"#Top\">Back to page top</a>\n",
    "\n",
    "In this section, we choose to work with the GloVe word embeddings. Specifically, we will use the GloVe embedding\n",
    "from 2014 English Wikipedia. The embedding's file name is glove.6B.zip, which can be downloaded from GloVe's\n",
    "<a href='https://nlp.stanford.edu/projects/glove/'>website</a>. After the file is unzipped, we'll load the file\n",
    "glove.6B.50d.txt. As the file name suggests, the dimension of the embedding space is 50. The file has 400K tokens. The embedding can be loaded into a dataframe using pandas `read_table()` function. We set `header=None` because the\n",
    "embedding file has no header. `quoting=csv.QUOTE_NONE` informs the file reader to perform no special processing of\n",
    "quote characters. `index_col=0` sets the first column of the file, which contains the tokens, as the index."
   ]
  },
  {
   "cell_type": "code",
   "execution_count": 17,
   "metadata": {},
   "outputs": [
    {
     "data": {
      "text/html": [
       "<div>\n",
       "<style scoped>\n",
       "    .dataframe tbody tr th:only-of-type {\n",
       "        vertical-align: middle;\n",
       "    }\n",
       "\n",
       "    .dataframe tbody tr th {\n",
       "        vertical-align: top;\n",
       "    }\n",
       "\n",
       "    .dataframe thead th {\n",
       "        text-align: right;\n",
       "    }\n",
       "</style>\n",
       "<table border=\"1\" class=\"dataframe\">\n",
       "  <thead>\n",
       "    <tr style=\"text-align: right;\">\n",
       "      <th></th>\n",
       "      <th>1</th>\n",
       "      <th>2</th>\n",
       "      <th>3</th>\n",
       "      <th>4</th>\n",
       "      <th>5</th>\n",
       "      <th>6</th>\n",
       "      <th>7</th>\n",
       "      <th>8</th>\n",
       "      <th>9</th>\n",
       "      <th>10</th>\n",
       "      <th>...</th>\n",
       "      <th>41</th>\n",
       "      <th>42</th>\n",
       "      <th>43</th>\n",
       "      <th>44</th>\n",
       "      <th>45</th>\n",
       "      <th>46</th>\n",
       "      <th>47</th>\n",
       "      <th>48</th>\n",
       "      <th>49</th>\n",
       "      <th>50</th>\n",
       "    </tr>\n",
       "    <tr>\n",
       "      <th>0</th>\n",
       "      <th></th>\n",
       "      <th></th>\n",
       "      <th></th>\n",
       "      <th></th>\n",
       "      <th></th>\n",
       "      <th></th>\n",
       "      <th></th>\n",
       "      <th></th>\n",
       "      <th></th>\n",
       "      <th></th>\n",
       "      <th></th>\n",
       "      <th></th>\n",
       "      <th></th>\n",
       "      <th></th>\n",
       "      <th></th>\n",
       "      <th></th>\n",
       "      <th></th>\n",
       "      <th></th>\n",
       "      <th></th>\n",
       "      <th></th>\n",
       "      <th></th>\n",
       "    </tr>\n",
       "  </thead>\n",
       "  <tbody>\n",
       "    <tr>\n",
       "      <th>the</th>\n",
       "      <td>0.418000</td>\n",
       "      <td>0.249680</td>\n",
       "      <td>-0.41242</td>\n",
       "      <td>0.121700</td>\n",
       "      <td>0.345270</td>\n",
       "      <td>-0.044457</td>\n",
       "      <td>-0.49688</td>\n",
       "      <td>-0.178620</td>\n",
       "      <td>-0.000660</td>\n",
       "      <td>-0.656600</td>\n",
       "      <td>...</td>\n",
       "      <td>-0.298710</td>\n",
       "      <td>-0.157490</td>\n",
       "      <td>-0.347580</td>\n",
       "      <td>-0.045637</td>\n",
       "      <td>-0.442510</td>\n",
       "      <td>0.187850</td>\n",
       "      <td>0.002785</td>\n",
       "      <td>-0.184110</td>\n",
       "      <td>-0.115140</td>\n",
       "      <td>-0.785810</td>\n",
       "    </tr>\n",
       "    <tr>\n",
       "      <th>,</th>\n",
       "      <td>0.013441</td>\n",
       "      <td>0.236820</td>\n",
       "      <td>-0.16899</td>\n",
       "      <td>0.409510</td>\n",
       "      <td>0.638120</td>\n",
       "      <td>0.477090</td>\n",
       "      <td>-0.42852</td>\n",
       "      <td>-0.556410</td>\n",
       "      <td>-0.364000</td>\n",
       "      <td>-0.239380</td>\n",
       "      <td>...</td>\n",
       "      <td>-0.080262</td>\n",
       "      <td>0.630030</td>\n",
       "      <td>0.321110</td>\n",
       "      <td>-0.467650</td>\n",
       "      <td>0.227860</td>\n",
       "      <td>0.360340</td>\n",
       "      <td>-0.378180</td>\n",
       "      <td>-0.566570</td>\n",
       "      <td>0.044691</td>\n",
       "      <td>0.303920</td>\n",
       "    </tr>\n",
       "    <tr>\n",
       "      <th>.</th>\n",
       "      <td>0.151640</td>\n",
       "      <td>0.301770</td>\n",
       "      <td>-0.16763</td>\n",
       "      <td>0.176840</td>\n",
       "      <td>0.317190</td>\n",
       "      <td>0.339730</td>\n",
       "      <td>-0.43478</td>\n",
       "      <td>-0.310860</td>\n",
       "      <td>-0.449990</td>\n",
       "      <td>-0.294860</td>\n",
       "      <td>...</td>\n",
       "      <td>-0.000064</td>\n",
       "      <td>0.068987</td>\n",
       "      <td>0.087939</td>\n",
       "      <td>-0.102850</td>\n",
       "      <td>-0.139310</td>\n",
       "      <td>0.223140</td>\n",
       "      <td>-0.080803</td>\n",
       "      <td>-0.356520</td>\n",
       "      <td>0.016413</td>\n",
       "      <td>0.102160</td>\n",
       "    </tr>\n",
       "    <tr>\n",
       "      <th>of</th>\n",
       "      <td>0.708530</td>\n",
       "      <td>0.570880</td>\n",
       "      <td>-0.47160</td>\n",
       "      <td>0.180480</td>\n",
       "      <td>0.544490</td>\n",
       "      <td>0.726030</td>\n",
       "      <td>0.18157</td>\n",
       "      <td>-0.523930</td>\n",
       "      <td>0.103810</td>\n",
       "      <td>-0.175660</td>\n",
       "      <td>...</td>\n",
       "      <td>-0.347270</td>\n",
       "      <td>0.284830</td>\n",
       "      <td>0.075693</td>\n",
       "      <td>-0.062178</td>\n",
       "      <td>-0.389880</td>\n",
       "      <td>0.229020</td>\n",
       "      <td>-0.216170</td>\n",
       "      <td>-0.225620</td>\n",
       "      <td>-0.093918</td>\n",
       "      <td>-0.803750</td>\n",
       "    </tr>\n",
       "    <tr>\n",
       "      <th>to</th>\n",
       "      <td>0.680470</td>\n",
       "      <td>-0.039263</td>\n",
       "      <td>0.30186</td>\n",
       "      <td>-0.177920</td>\n",
       "      <td>0.429620</td>\n",
       "      <td>0.032246</td>\n",
       "      <td>-0.41376</td>\n",
       "      <td>0.132280</td>\n",
       "      <td>-0.298470</td>\n",
       "      <td>-0.085253</td>\n",
       "      <td>...</td>\n",
       "      <td>-0.094375</td>\n",
       "      <td>0.018324</td>\n",
       "      <td>0.210480</td>\n",
       "      <td>-0.030880</td>\n",
       "      <td>-0.197220</td>\n",
       "      <td>0.082279</td>\n",
       "      <td>-0.094340</td>\n",
       "      <td>-0.073297</td>\n",
       "      <td>-0.064699</td>\n",
       "      <td>-0.260440</td>\n",
       "    </tr>\n",
       "    <tr>\n",
       "      <th>and</th>\n",
       "      <td>0.268180</td>\n",
       "      <td>0.143460</td>\n",
       "      <td>-0.27877</td>\n",
       "      <td>0.016257</td>\n",
       "      <td>0.113840</td>\n",
       "      <td>0.699230</td>\n",
       "      <td>-0.51332</td>\n",
       "      <td>-0.473680</td>\n",
       "      <td>-0.330750</td>\n",
       "      <td>-0.138340</td>\n",
       "      <td>...</td>\n",
       "      <td>-0.069043</td>\n",
       "      <td>0.368850</td>\n",
       "      <td>0.251680</td>\n",
       "      <td>-0.245170</td>\n",
       "      <td>0.253810</td>\n",
       "      <td>0.136700</td>\n",
       "      <td>-0.311780</td>\n",
       "      <td>-0.632100</td>\n",
       "      <td>-0.250280</td>\n",
       "      <td>-0.380970</td>\n",
       "    </tr>\n",
       "    <tr>\n",
       "      <th>in</th>\n",
       "      <td>0.330420</td>\n",
       "      <td>0.249950</td>\n",
       "      <td>-0.60874</td>\n",
       "      <td>0.109230</td>\n",
       "      <td>0.036372</td>\n",
       "      <td>0.151000</td>\n",
       "      <td>-0.55083</td>\n",
       "      <td>-0.074239</td>\n",
       "      <td>-0.092307</td>\n",
       "      <td>-0.328210</td>\n",
       "      <td>...</td>\n",
       "      <td>-0.486090</td>\n",
       "      <td>-0.008027</td>\n",
       "      <td>0.031184</td>\n",
       "      <td>-0.365760</td>\n",
       "      <td>-0.426990</td>\n",
       "      <td>0.421640</td>\n",
       "      <td>-0.116660</td>\n",
       "      <td>-0.507030</td>\n",
       "      <td>-0.027273</td>\n",
       "      <td>-0.532850</td>\n",
       "    </tr>\n",
       "    <tr>\n",
       "      <th>a</th>\n",
       "      <td>0.217050</td>\n",
       "      <td>0.465150</td>\n",
       "      <td>-0.46757</td>\n",
       "      <td>0.100820</td>\n",
       "      <td>1.013500</td>\n",
       "      <td>0.748450</td>\n",
       "      <td>-0.53104</td>\n",
       "      <td>-0.262560</td>\n",
       "      <td>0.168120</td>\n",
       "      <td>0.131820</td>\n",
       "      <td>...</td>\n",
       "      <td>0.138130</td>\n",
       "      <td>0.369730</td>\n",
       "      <td>-0.642890</td>\n",
       "      <td>0.024142</td>\n",
       "      <td>-0.039315</td>\n",
       "      <td>-0.260370</td>\n",
       "      <td>0.120170</td>\n",
       "      <td>-0.043782</td>\n",
       "      <td>0.410130</td>\n",
       "      <td>0.179600</td>\n",
       "    </tr>\n",
       "    <tr>\n",
       "      <th>\"</th>\n",
       "      <td>0.257690</td>\n",
       "      <td>0.456290</td>\n",
       "      <td>-0.76974</td>\n",
       "      <td>-0.376790</td>\n",
       "      <td>0.592720</td>\n",
       "      <td>-0.063527</td>\n",
       "      <td>0.20545</td>\n",
       "      <td>-0.573850</td>\n",
       "      <td>-0.290090</td>\n",
       "      <td>-0.136620</td>\n",
       "      <td>...</td>\n",
       "      <td>0.030498</td>\n",
       "      <td>-0.395430</td>\n",
       "      <td>-0.385150</td>\n",
       "      <td>-1.000200</td>\n",
       "      <td>0.087599</td>\n",
       "      <td>-0.310090</td>\n",
       "      <td>-0.346770</td>\n",
       "      <td>-0.314380</td>\n",
       "      <td>0.750040</td>\n",
       "      <td>0.970650</td>\n",
       "    </tr>\n",
       "    <tr>\n",
       "      <th>'s</th>\n",
       "      <td>0.237270</td>\n",
       "      <td>0.404780</td>\n",
       "      <td>-0.20547</td>\n",
       "      <td>0.588050</td>\n",
       "      <td>0.655330</td>\n",
       "      <td>0.328670</td>\n",
       "      <td>-0.81964</td>\n",
       "      <td>-0.232360</td>\n",
       "      <td>0.274280</td>\n",
       "      <td>0.242650</td>\n",
       "      <td>...</td>\n",
       "      <td>-0.123420</td>\n",
       "      <td>0.659610</td>\n",
       "      <td>-0.518020</td>\n",
       "      <td>-0.829950</td>\n",
       "      <td>-0.082739</td>\n",
       "      <td>0.281550</td>\n",
       "      <td>-0.423000</td>\n",
       "      <td>-0.273780</td>\n",
       "      <td>-0.007901</td>\n",
       "      <td>-0.030231</td>\n",
       "    </tr>\n",
       "  </tbody>\n",
       "</table>\n",
       "<p>10 rows × 50 columns</p>\n",
       "</div>"
      ],
      "text/plain": [
       "           1         2        3         4         5         6        7   \\\n",
       "0                                                                         \n",
       "the  0.418000  0.249680 -0.41242  0.121700  0.345270 -0.044457 -0.49688   \n",
       ",    0.013441  0.236820 -0.16899  0.409510  0.638120  0.477090 -0.42852   \n",
       ".    0.151640  0.301770 -0.16763  0.176840  0.317190  0.339730 -0.43478   \n",
       "of   0.708530  0.570880 -0.47160  0.180480  0.544490  0.726030  0.18157   \n",
       "to   0.680470 -0.039263  0.30186 -0.177920  0.429620  0.032246 -0.41376   \n",
       "and  0.268180  0.143460 -0.27877  0.016257  0.113840  0.699230 -0.51332   \n",
       "in   0.330420  0.249950 -0.60874  0.109230  0.036372  0.151000 -0.55083   \n",
       "a    0.217050  0.465150 -0.46757  0.100820  1.013500  0.748450 -0.53104   \n",
       "\"    0.257690  0.456290 -0.76974 -0.376790  0.592720 -0.063527  0.20545   \n",
       "'s   0.237270  0.404780 -0.20547  0.588050  0.655330  0.328670 -0.81964   \n",
       "\n",
       "           8         9         10    ...           41        42        43  \\\n",
       "0                                    ...                                    \n",
       "the -0.178620 -0.000660 -0.656600    ...    -0.298710 -0.157490 -0.347580   \n",
       ",   -0.556410 -0.364000 -0.239380    ...    -0.080262  0.630030  0.321110   \n",
       ".   -0.310860 -0.449990 -0.294860    ...    -0.000064  0.068987  0.087939   \n",
       "of  -0.523930  0.103810 -0.175660    ...    -0.347270  0.284830  0.075693   \n",
       "to   0.132280 -0.298470 -0.085253    ...    -0.094375  0.018324  0.210480   \n",
       "and -0.473680 -0.330750 -0.138340    ...    -0.069043  0.368850  0.251680   \n",
       "in  -0.074239 -0.092307 -0.328210    ...    -0.486090 -0.008027  0.031184   \n",
       "a   -0.262560  0.168120  0.131820    ...     0.138130  0.369730 -0.642890   \n",
       "\"   -0.573850 -0.290090 -0.136620    ...     0.030498 -0.395430 -0.385150   \n",
       "'s  -0.232360  0.274280  0.242650    ...    -0.123420  0.659610 -0.518020   \n",
       "\n",
       "           44        45        46        47        48        49        50  \n",
       "0                                                                          \n",
       "the -0.045637 -0.442510  0.187850  0.002785 -0.184110 -0.115140 -0.785810  \n",
       ",   -0.467650  0.227860  0.360340 -0.378180 -0.566570  0.044691  0.303920  \n",
       ".   -0.102850 -0.139310  0.223140 -0.080803 -0.356520  0.016413  0.102160  \n",
       "of  -0.062178 -0.389880  0.229020 -0.216170 -0.225620 -0.093918 -0.803750  \n",
       "to  -0.030880 -0.197220  0.082279 -0.094340 -0.073297 -0.064699 -0.260440  \n",
       "and -0.245170  0.253810  0.136700 -0.311780 -0.632100 -0.250280 -0.380970  \n",
       "in  -0.365760 -0.426990  0.421640 -0.116660 -0.507030 -0.027273 -0.532850  \n",
       "a    0.024142 -0.039315 -0.260370  0.120170 -0.043782  0.410130  0.179600  \n",
       "\"   -1.000200  0.087599 -0.310090 -0.346770 -0.314380  0.750040  0.970650  \n",
       "'s  -0.829950 -0.082739  0.281550 -0.423000 -0.273780 -0.007901 -0.030231  \n",
       "\n",
       "[10 rows x 50 columns]"
      ]
     },
     "execution_count": 17,
     "metadata": {},
     "output_type": "execute_result"
    }
   ],
   "source": [
    "glove_path = './datasets/glove.6B.50d.txt'\n",
    "df_glove = pd.read_table(glove_path, sep=\" \", index_col=0, header=None, quoting=csv.QUOTE_NONE)\n",
    "df_glove.head(10)"
   ]
  },
  {
   "cell_type": "markdown",
   "metadata": {},
   "source": [
    "Next we build an embeddding matrix that maps review tokens to GloVe word vectors. The embedding matrix is\n",
    "essentially just a look-up table: given a token, the matrix gives its embedding vector."
   ]
  },
  {
   "cell_type": "code",
   "execution_count": 18,
   "metadata": {},
   "outputs": [
    {
     "name": "stdout",
     "output_type": "stream",
     "text": [
      " Processing word #1000 in the token list\n",
      " Processing word #2000 in the token list\n",
      " Processing word #3000 in the token list\n",
      " Processing word #4000 in the token list\n",
      " Processing word #5000 in the token list\n",
      " Processing word #6000 in the token list\n",
      " Processing word #7000 in the token list\n",
      " Processing word #8000 in the token list\n",
      " Processing word #9000 in the token list\n",
      " Processing word #10000 in the token list\n",
      " Processing word #11000 in the token list\n",
      " Processing word #12000 in the token list\n",
      " Processing word #13000 in the token list\n",
      " Processing word #14000 in the token list\n",
      " Processing word #15000 in the token list\n",
      " Processing word #16000 in the token list\n",
      " Processing word #17000 in the token list\n",
      " Processing word #18000 in the token list\n",
      " Processing word #19000 in the token list\n"
     ]
    }
   ],
   "source": [
    "glove_word_index = list(df_glove.index)\n",
    "\n",
    "embedding_matrix = np.zeros((num_unique_tokens, embedding_dim))\n",
    "for word, i in word_index.items():\n",
    "    if i < num_unique_tokens:\n",
    "        if i%1000 == 0:\n",
    "            print(' Processing word #{0} in the token list'.format(i))\n",
    "        if word in glove_word_index:\n",
    "            embedding_matrix[i] = df_glove.loc[word].astype('float32')"
   ]
  },
  {
   "cell_type": "markdown",
   "metadata": {},
   "source": [
    "We reuse the model defined previously. In order to do so, the network's initial weights will be loaded."
   ]
  },
  {
   "cell_type": "code",
   "execution_count": 19,
   "metadata": {},
   "outputs": [],
   "source": [
    "model.load_weights('imdb_RNN_initial_weights.h5')"
   ]
  },
  {
   "cell_type": "markdown",
   "metadata": {},
   "source": [
    "Load the embedding matrix into the layer. Moreover, the layer needs to be frozen during training because we are\n",
    "using pretrained embeddings. If not, the randomly initialized layer weights will trigger large gradient updates\n",
    "which will erase the already-learned features."
   ]
  },
  {
   "cell_type": "code",
   "execution_count": 20,
   "metadata": {
    "scrolled": true
   },
   "outputs": [
    {
     "name": "stdout",
     "output_type": "stream",
     "text": [
      "_________________________________________________________________\n",
      "Layer (type)                 Output Shape              Param #   \n",
      "=================================================================\n",
      "embedding_1 (Embedding)      (None, 200, 50)           1000000   \n",
      "_________________________________________________________________\n",
      "lstm_1 (LSTM)                (None, 100)               60400     \n",
      "_________________________________________________________________\n",
      "dense_1 (Dense)              (None, 1)                 101       \n",
      "=================================================================\n",
      "Total params: 1,060,501\n",
      "Trainable params: 60,501\n",
      "Non-trainable params: 1,000,000\n",
      "_________________________________________________________________\n"
     ]
    }
   ],
   "source": [
    "model.layers[0].set_weights([embedding_matrix])\n",
    "model.layers[0].trainable = False\n",
    "\n",
    "model.compile(optimizer = 'rmsprop',\n",
    "              loss = 'binary_crossentropy',\n",
    "              metrics = ['acc'])\n",
    "\n",
    "model.summary()"
   ]
  },
  {
   "cell_type": "markdown",
   "metadata": {},
   "source": [
    "The model summary confirms that the embedding weights are locked. Only the LSTM weights are trainable.\n",
    "Let's train the network!"
   ]
  },
  {
   "cell_type": "code",
   "execution_count": 21,
   "metadata": {},
   "outputs": [
    {
     "name": "stdout",
     "output_type": "stream",
     "text": [
      "Train on 9000 samples, validate on 3500 samples\n",
      "Epoch 1/10\n",
      "9000/9000 [==============================] - 25s 3ms/step - loss: 0.6410 - acc: 0.6310 - val_loss: 0.6137 - val_acc: 0.6749\n",
      "Epoch 2/10\n",
      "9000/9000 [==============================] - 25s 3ms/step - loss: 0.5785 - acc: 0.7042 - val_loss: 0.6420 - val_acc: 0.6717\n",
      "Epoch 3/10\n",
      "9000/9000 [==============================] - 25s 3ms/step - loss: 0.5526 - acc: 0.7233 - val_loss: 0.5139 - val_acc: 0.7529\n",
      "Epoch 4/10\n",
      "9000/9000 [==============================] - 25s 3ms/step - loss: 0.5203 - acc: 0.7529 - val_loss: 0.5339 - val_acc: 0.7317\n",
      "Epoch 5/10\n",
      "9000/9000 [==============================] - 24s 3ms/step - loss: 0.4938 - acc: 0.7710 - val_loss: 0.4856 - val_acc: 0.7723\n",
      "Epoch 6/10\n",
      "9000/9000 [==============================] - 25s 3ms/step - loss: 0.4681 - acc: 0.7857 - val_loss: 0.5768 - val_acc: 0.7177\n",
      "Epoch 7/10\n",
      "9000/9000 [==============================] - 24s 3ms/step - loss: 0.4427 - acc: 0.7994 - val_loss: 0.4442 - val_acc: 0.7971\n",
      "Epoch 8/10\n",
      "9000/9000 [==============================] - 25s 3ms/step - loss: 0.4160 - acc: 0.8053 - val_loss: 0.4460 - val_acc: 0.7857\n",
      "Epoch 9/10\n",
      "9000/9000 [==============================] - 25s 3ms/step - loss: 0.3995 - acc: 0.8193 - val_loss: 0.4235 - val_acc: 0.8140\n",
      "Epoch 10/10\n",
      "9000/9000 [==============================] - 25s 3ms/step - loss: 0.3810 - acc: 0.8304 - val_loss: 0.3996 - val_acc: 0.8263\n"
     ]
    }
   ],
   "source": [
    "history = model.fit(x_train, y_train,\n",
    "                    epochs = 10,\n",
    "                    batch_size = 64,\n",
    "                    validation_data = (x_val, y_val))\n",
    "\n",
    "model.save('imdb_RNN_GloVe_embeddings.h5')\n",
    "with open('imdb_RNN_GloVe_embeddings_history.pickle', 'wb') as history_file:\n",
    "    pickle.dump(history, history_file)"
   ]
  },
  {
   "cell_type": "code",
   "execution_count": 22,
   "metadata": {
    "scrolled": false
   },
   "outputs": [
    {
     "data": {
      "image/png": "[encoded data removed]",
      "text/plain": [
       "<Figure size 576x720 with 2 Axes>"
      ]
     },
     "metadata": {
      "needs_background": "light"
     },
     "output_type": "display_data"
    }
   ],
   "source": [
    "h = pickle.load( open('imdb_RNN_GloVe_embeddings_history.pickle', 'rb'))\n",
    "plot_history(h, ymin=0.4)"
   ]
  },
  {
   "cell_type": "markdown",
   "metadata": {},
   "source": [
    "It seems that using precomputed embeddings reduces overfitting. But the best accuracy is 80%, which is slightly\n",
    "lower than the best accuracy achieved by the previous network before it was overfitted."
   ]
  },
  {
   "cell_type": "markdown",
   "metadata": {},
   "source": [
    "# 5. Text data processing with 1D CNN<a id=\"Part_5\"></a>\n",
    "<a href=\"#Top\">Back to page top</a>"
   ]
  },
  {
   "cell_type": "markdown",
   "metadata": {},
   "source": [
    "In the last part of the notebook, we'll use 1D CNN to classify the reviews. The convolutional layers we discussed\n",
    "earluer extract two-dimensional patches from images and apply the same transformation to every patch. In the same\n",
    "way, 1D convolutional layers extract 1D patches (subsequences) from sequences, as depicted below:\n",
    "\n",
    "<img src='./images/fig_RNN-1dCNN.png' width=500>\n",
    "\n",
    "In the 1D CNN setup, the filter window size is along the timestep direction. The dataset's input features are viewd\n",
    "as convolutional layer's input channels.\n",
    "\n",
    "Why using 1D CNN on text data? The idea is that the 1D convolutioanl layers can recognize local patterns in\n",
    "sequence. Since the same input transformation is performed on every patch, a pattern learned at a certain position\n",
    "in a sentence can later be recognized at different positions, making the 1D CNN layers translational invariant.\n",
    "Following this line of thinking, a character-level 1D CNN is also a possible setup and is able to learn about\n",
    "word morphology.\n",
    "\n",
    "In Keras, a 1D CNN implements the `Conv1D` layer. Its interface is very similar to that of the `Conv2D` layer.\n",
    "The `Conv1D` layer take as input 3D tensors of shape `(batch_size, timestep, features)` and return similar\n",
    "shaped 3D tensors. The network's structure looks just like the 2D CNNs we have studied. The model consists\n",
    "of a stack of `Conv1D` and `MaxPooling1D` layers, ending in either a global pooling or a `Flatten()` layer,\n",
    "which turns 3D tensors into 2D tensors, allowing one to add `Dense` layers to the model for classification\n",
    "or regression. Also, because of the 1D feature, here we can afford a much wider filter window size. Let's build\n",
    "and train the network."
   ]
  },
  {
   "cell_type": "code",
   "execution_count": 23,
   "metadata": {
    "scrolled": false
   },
   "outputs": [
    {
     "name": "stdout",
     "output_type": "stream",
     "text": [
      "_________________________________________________________________\n",
      "Layer (type)                 Output Shape              Param #   \n",
      "=================================================================\n",
      "embedding_2 (Embedding)      (None, 200, 50)           1000000   \n",
      "_________________________________________________________________\n",
      "conv1d_1 (Conv1D)            (None, 200, 50)           22550     \n",
      "_________________________________________________________________\n",
      "max_pooling1d_1 (MaxPooling1 (None, 100, 50)           0         \n",
      "_________________________________________________________________\n",
      "conv1d_2 (Conv1D)            (None, 100, 64)           28864     \n",
      "_________________________________________________________________\n",
      "max_pooling1d_2 (MaxPooling1 (None, 50, 64)            0         \n",
      "_________________________________________________________________\n",
      "conv1d_3 (Conv1D)            (None, 50, 64)            28736     \n",
      "_________________________________________________________________\n",
      "max_pooling1d_3 (MaxPooling1 (None, 25, 64)            0         \n",
      "_________________________________________________________________\n",
      "conv1d_4 (Conv1D)            (None, 25, 128)           57472     \n",
      "_________________________________________________________________\n",
      "max_pooling1d_4 (MaxPooling1 (None, 12, 128)           0         \n",
      "_________________________________________________________________\n",
      "conv1d_5 (Conv1D)            (None, 12, 128)           82048     \n",
      "_________________________________________________________________\n",
      "global_max_pooling1d_1 (Glob (None, 128)               0         \n",
      "_________________________________________________________________\n",
      "dropout_1 (Dropout)          (None, 128)               0         \n",
      "_________________________________________________________________\n",
      "dense_2 (Dense)              (None, 64)                8256      \n",
      "_________________________________________________________________\n",
      "dropout_2 (Dropout)          (None, 64)                0         \n",
      "_________________________________________________________________\n",
      "dense_3 (Dense)              (None, 1)                 65        \n",
      "=================================================================\n",
      "Total params: 1,227,991\n",
      "Trainable params: 1,227,991\n",
      "Non-trainable params: 0\n",
      "_________________________________________________________________\n"
     ]
    }
   ],
   "source": [
    "model_1dCNN = Sequential()\n",
    "model_1dCNN.add( Embedding(num_unique_tokens, \n",
    "                           embedding_dim, \n",
    "                           input_length = max_words_per_review) )\n",
    "model_1dCNN.add( Conv1D(50, 9, padding = 'same', activation = 'relu') )\n",
    "model_1dCNN.add( MaxPooling1D(2) )\n",
    "model_1dCNN.add( Conv1D(64, 9, padding = 'same', activation = 'relu') )\n",
    "model_1dCNN.add( MaxPooling1D(2) )\n",
    "model_1dCNN.add( Conv1D(64, 7, padding = 'same', activation = 'relu') )\n",
    "model_1dCNN.add( MaxPooling1D(2) )\n",
    "model_1dCNN.add( Conv1D(128, 7, padding = 'same', activation = 'relu') )\n",
    "model_1dCNN.add( MaxPooling1D(2) )\n",
    "model_1dCNN.add( Conv1D(128, 5, padding = 'same', activation = 'relu') )\n",
    "model_1dCNN.add( GlobalMaxPooling1D() )\n",
    "model_1dCNN.add( Dropout(0.5) )\n",
    "model_1dCNN.add( Dense(64, activation = 'relu') )\n",
    "model_1dCNN.add( Dropout(0.5) )\n",
    "model_1dCNN.add( Dense(1, activation = 'sigmoid') )\n",
    "\n",
    "model_1dCNN.summary()\n",
    "model_1dCNN.compile(optimizer = RMSprop(lr=8.0e-5),\n",
    "                    loss = 'binary_crossentropy',\n",
    "                    metrics = ['acc'])\n",
    "model_1dCNN.save_weights('imdb_1dCNN_initial_weights.h5')"
   ]
  },
  {
   "cell_type": "code",
   "execution_count": 24,
   "metadata": {
    "scrolled": false
   },
   "outputs": [
    {
     "name": "stdout",
     "output_type": "stream",
     "text": [
      "Train on 9000 samples, validate on 3500 samples\n",
      "Epoch 1/20\n",
      "9000/9000 [==============================] - 6s 714us/step - loss: 0.6933 - acc: 0.5062 - val_loss: 0.6931 - val_acc: 0.5034\n",
      "Epoch 2/20\n",
      "9000/9000 [==============================] - 1s 136us/step - loss: 0.6930 - acc: 0.5093 - val_loss: 0.6931 - val_acc: 0.5034\n",
      "Epoch 3/20\n",
      "9000/9000 [==============================] - 1s 145us/step - loss: 0.6930 - acc: 0.5074 - val_loss: 0.6931 - val_acc: 0.5034\n",
      "Epoch 4/20\n",
      "9000/9000 [==============================] - 1s 147us/step - loss: 0.6927 - acc: 0.5142 - val_loss: 0.6930 - val_acc: 0.5034\n",
      "Epoch 5/20\n",
      "9000/9000 [==============================] - 1s 145us/step - loss: 0.6923 - acc: 0.5131 - val_loss: 0.6926 - val_acc: 0.5034\n",
      "Epoch 6/20\n",
      "9000/9000 [==============================] - 1s 148us/step - loss: 0.6914 - acc: 0.5160 - val_loss: 0.6899 - val_acc: 0.5031\n",
      "Epoch 7/20\n",
      "9000/9000 [==============================] - 1s 145us/step - loss: 0.6800 - acc: 0.5772 - val_loss: 0.6618 - val_acc: 0.7031\n",
      "Epoch 8/20\n",
      "9000/9000 [==============================] - 1s 149us/step - loss: 0.6131 - acc: 0.7128 - val_loss: 0.5452 - val_acc: 0.7666\n",
      "Epoch 9/20\n",
      "9000/9000 [==============================] - 1s 146us/step - loss: 0.4903 - acc: 0.7881 - val_loss: 0.4816 - val_acc: 0.7717\n",
      "Epoch 10/20\n",
      "9000/9000 [==============================] - 1s 146us/step - loss: 0.4048 - acc: 0.8327 - val_loss: 0.4010 - val_acc: 0.8294\n",
      "Epoch 11/20\n",
      "9000/9000 [==============================] - 1s 150us/step - loss: 0.3414 - acc: 0.8633 - val_loss: 0.3875 - val_acc: 0.8386\n",
      "Epoch 12/20\n",
      "9000/9000 [==============================] - 1s 149us/step - loss: 0.2977 - acc: 0.8869 - val_loss: 0.4173 - val_acc: 0.8066\n",
      "Epoch 13/20\n",
      "9000/9000 [==============================] - 1s 146us/step - loss: 0.2525 - acc: 0.9076 - val_loss: 0.4209 - val_acc: 0.8411\n",
      "Epoch 14/20\n",
      "9000/9000 [==============================] - 1s 143us/step - loss: 0.2259 - acc: 0.9189 - val_loss: 0.3753 - val_acc: 0.8537\n",
      "Epoch 15/20\n",
      "9000/9000 [==============================] - 1s 151us/step - loss: 0.1857 - acc: 0.9371 - val_loss: 0.3968 - val_acc: 0.8546\n",
      "Epoch 16/20\n",
      "9000/9000 [==============================] - 1s 147us/step - loss: 0.1543 - acc: 0.9462 - val_loss: 0.7195 - val_acc: 0.7877\n",
      "Epoch 17/20\n",
      "9000/9000 [==============================] - 1s 151us/step - loss: 0.1351 - acc: 0.9543 - val_loss: 0.4539 - val_acc: 0.8517\n",
      "Epoch 18/20\n",
      "9000/9000 [==============================] - 1s 152us/step - loss: 0.1141 - acc: 0.9646 - val_loss: 0.6696 - val_acc: 0.8146\n",
      "Epoch 19/20\n",
      "9000/9000 [==============================] - 1s 143us/step - loss: 0.0952 - acc: 0.9689 - val_loss: 0.5269 - val_acc: 0.8449\n",
      "Epoch 20/20\n",
      "9000/9000 [==============================] - 1s 148us/step - loss: 0.0824 - acc: 0.9746 - val_loss: 0.4807 - val_acc: 0.8546\n"
     ]
    }
   ],
   "source": [
    "history = model_1dCNN.fit(x_train, y_train,\n",
    "                          epochs = 20,\n",
    "                          batch_size = 128,\n",
    "                          validation_data = (x_val, y_val))\n",
    "\n",
    "model_1dCNN.save('imdb_1dCNN.h5')\n",
    "with open('imdb_1dCNN_history.pickle', 'wb') as history_file:\n",
    "    pickle.dump(history, history_file)"
   ]
  },
  {
   "cell_type": "code",
   "execution_count": 25,
   "metadata": {
    "scrolled": false
   },
   "outputs": [
    {
     "data": {
      "image/png": "[encoded data removed]",
      "text/plain": [
       "<Figure size 576x720 with 2 Axes>"
      ]
     },
     "metadata": {
      "needs_background": "light"
     },
     "output_type": "display_data"
    }
   ],
   "source": [
    "plot_history(history, ymin=0.4)"
   ]
  },
  {
   "cell_type": "markdown",
   "metadata": {},
   "source": [
    "First of all, despite the fact that the 1D CNN has more weight parameters than the RNN networks, the training\n",
    "is significantly faster. The best accuracy is ~83% before the network overfits. This result demonstrates that\n",
    "1D CNN can offer a much cheaper alternative computationally to an RNN on the word-level sentiment classification."
   ]
  },
  {
   "cell_type": "code",
   "execution_count": null,
   "metadata": {},
   "outputs": [],
   "source": []
  }
 ],
 "metadata": {
  "kernelspec": {
   "display_name": "Python 3",
   "language": "python",
   "name": "python3"
  },
  "language_info": {
   "codemirror_mode": {
    "name": "ipython",
    "version": 3
   },
   "file_extension": ".py",
   "mimetype": "text/x-python",
   "name": "python",
   "nbconvert_exporter": "python",
   "pygments_lexer": "ipython3",
   "version": "3.6.6"
  }
 },
 "nbformat": 4,
 "nbformat_minor": 2
}
